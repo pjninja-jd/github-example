{
 "cells": [
  {
   "cell_type": "markdown",
   "metadata": {},
   "source": [
    "# Step 1: Import libraries\n"
   ]
  },
  {
   "cell_type": "code",
   "execution_count": 101,
   "metadata": {},
   "outputs": [],
   "source": [
    "from bs4 import BeautifulSoup as bs\n",
    "import requests\n",
    "import pandas as pd\n",
    "import numpy as np"
   ]
  },
  {
   "cell_type": "markdown",
   "metadata": {},
   "source": [
    "## Step 2: Scrape data using BeautifulSoup and insert into pandas DF"
   ]
  },
  {
   "cell_type": "code",
   "execution_count": 102,
   "metadata": {},
   "outputs": [],
   "source": [
    "url = 'https://en.wikipedia.org/wiki/List_of_postal_codes_of_Canada:_M'\n",
    "source = requests.get(url).text\n",
    "\n",
    "#making soup object\n",
    "soup = bs(source, 'lxml')\n",
    "# print(soup.prettify())\n",
    "\n",
    "#table that we want to extract from\n",
    "table = soup.find('table', class_='wikitable sortable')\n",
    "\n",
    "#setting up lists to insert to dataframe later\n",
    "A=[]\n",
    "B=[]\n",
    "C=[]\n",
    "\n",
    "#iterate through rows and cells\n",
    "for row in table.findAll('tr'):\n",
    "    data = row.findAll('td')\n",
    "    if len(data)==3:\n",
    "        A.append(data[0].find(text=True).strip())\n",
    "        B.append(data[1].find(text=True).strip())\n",
    "        C.append(data[2].find(text=True).strip())\n",
    "\n",
    "#import into pandas df\n",
    "Canada_Postal_Codes = pd.DataFrame(np.column_stack([A,B,C]),\n",
    "                                  columns=['Postcode','Borough','Neighborhood'])\n",
    "# Canada_Postal_Codes.shape # rows before dropping borough \"Not Assigned\""
   ]
  },
  {
   "cell_type": "markdown",
   "metadata": {},
   "source": [
    "## Step 3: Removing values from DF, then grouping"
   ]
  },
  {
   "cell_type": "code",
   "execution_count": 103,
   "metadata": {},
   "outputs": [],
   "source": [
    "#dropping not assigned borough  values\n",
    "Canada_Postal_Codes = Canada_Postal_Codes[Canada_Postal_Codes.Borough != 'Not assigned']\n",
    "# Canada_Postal_Codes.shape"
   ]
  },
  {
   "cell_type": "code",
   "execution_count": 104,
   "metadata": {},
   "outputs": [],
   "source": [
    "#groupby postcode\n",
    "Canada_Postal_Codes = Canada_Postal_Codes.groupby(['Postcode','Borough'])['Neighborhood'].apply(', '.join).reset_index()"
   ]
  },
  {
   "cell_type": "markdown",
   "metadata": {},
   "source": [
    "## Step 4: Assign Borough values to Neighborhood if there's no assigned value in the column "
   ]
  },
  {
   "cell_type": "code",
   "execution_count": 105,
   "metadata": {},
   "outputs": [],
   "source": [
    "#assigning borough to neighborhood for not assigned values\n",
    "New_Neighborhood = np.where(Canada_Postal_Codes.Neighborhood == 'Not assigned', Canada_Postal_Codes.Borough,Canada_Postal_Codes.Neighborhood)\n",
    "Canada_Postal_Codes['New Neighborhood']=New_Neighborhood"
   ]
  },
  {
   "cell_type": "code",
   "execution_count": 106,
   "metadata": {},
   "outputs": [],
   "source": [
    "# formatting\n",
    "Canada_Postal_Codes.drop('Neighborhood', axis=1, inplace=True)"
   ]
  },
  {
   "cell_type": "code",
   "execution_count": 107,
   "metadata": {},
   "outputs": [],
   "source": [
    "# formatting\n",
    "Canada_Postal_Codes = Canada_Postal_Codes.rename(columns={'New Neighborhood': 'Neighborhood'})"
   ]
  },
  {
   "cell_type": "markdown",
   "metadata": {},
   "source": [
    "## Step 5: Printing DF shape"
   ]
  },
  {
   "cell_type": "code",
   "execution_count": 108,
   "metadata": {},
   "outputs": [
    {
     "data": {
      "text/plain": [
       "(103, 3)"
      ]
     },
     "execution_count": 108,
     "metadata": {},
     "output_type": "execute_result"
    }
   ],
   "source": [
    "Canada_Postal_Codes.shape"
   ]
  }
 ],
 "metadata": {
  "kernelspec": {
   "display_name": "Python 3.6",
   "language": "python",
   "name": "python3"
  },
  "language_info": {
   "codemirror_mode": {
    "name": "ipython",
    "version": 3
   },
   "file_extension": ".py",
   "mimetype": "text/x-python",
   "name": "python",
   "nbconvert_exporter": "python",
   "pygments_lexer": "ipython3",
   "version": "3.6.8"
  }
 },
 "nbformat": 4,
 "nbformat_minor": 1
}
